{
  "nbformat": 4,
  "nbformat_minor": 0,
  "metadata": {
    "colab": {
      "name": "ML1_Project_Report_Group4.ipynb",
      "provenance": [],
      "collapsed_sections": []
    },
    "kernelspec": {
      "name": "python3",
      "display_name": "Python 3"
    },
    "language_info": {
      "name": "python"
    }
  },
  "cells": [
    {
      "cell_type": "markdown",
      "metadata": {
        "id": "GCLdwU7YQt4Y"
      },
      "source": [
        "# Table of Contents\n",
        "###1 Overview\n",
        "###2 Notebook Configuration\n",
        ">2.1  Google drive\n",
        "\n",
        ">2.2  Warning\n",
        "\n",
        ">2.3  Matplotlib\n",
        "\n",
        ">2.4  TensorFlow\n",
        "\n",
        ">2.5  Random seed\n",
        "\n",
        "###3  Data Preprocessing\n",
        ">3.1  Extra Utilities\n",
        "\n",
        ">3.2  Loading data\n",
        "\n",
        ">3.2  Getting the name of the target\n",
        "\n",
        ">3.3  Splitting the data\n",
        "\n",
        ">3.4 Experiment Setup\n",
        "\n",
        ">3.5 Identifying and dropping uncommon features\n",
        "\n",
        ">3.6 Handling missing data\n",
        "\n",
        ">3.7 Identifying missing values\n",
        "\n",
        "> 3.8 Data Preparation for RNN\n",
        "\n",
        ">3.9 Normalize the data\n",
        "\n",
        "\n",
        "###4  Training\n",
        ">4.1  Creating the directory for the model\n",
        "\n",
        ">4.2  Building the architecture of LSTM model\n",
        "\n",
        ">4.3  Setting Callbacks\n",
        "\n",
        ">4.4  Compiling the model\n",
        "\n",
        ">4.5  Training the model\n",
        "\n",
        ">4.6  Plotting the learning curve\n",
        "\n",
        "###5  Testing\n",
        ">5.1 Reshaping test features \n",
        "\n",
        ">5.2  Loading the saved model\n",
        "\n",
        ">5.3  Predicting values for the test dataset\n",
        "\n",
        ">5.4  Generating the submission file\n",
        "\n",
        "###6 Conclusion\n",
        "\n",
        "###7  Reference\n",
        "\n",
        "\n",
        "\n"
      ]
    },
    {
      "cell_type": "markdown",
      "metadata": {
        "id": "42yc1zUrzlEh"
      },
      "source": [
        "<b>\n",
        "<p>\n",
        "<center>\n",
        "<font size='5'>\n",
        "Detecting the Higgs Boson with RNN\n",
        "</font>\n",
        "</center>\n",
        "</p>\n",
        "\n",
        "    \n",
        "<p>\n",
        "<center>\n",
        "<font size='4'>\n",
        "GROUP - 4\n",
        "</font>\n",
        "</center>\n",
        "</p>\n",
        "</b>\n",
        "\n",
        "\n",
        "<p>\n",
        "<center>\n",
        "<font size='3'>\n",
        "Rakshith Reddy Eleti\n",
        "</font>\n",
        "</center>\n",
        "</p>\n",
        "\n",
        "\n",
        "<p>\n",
        "<center>\n",
        "<font size='3'>\n",
        "Anuradha Tidke\n",
        "</font>\n",
        "</center>\n",
        "</p>\n",
        "\n",
        "\n",
        "\n",
        "<p>\n",
        "<center>\n",
        "<font size='3'>\n",
        "Venkata Gangadhar Naveen Palaka\n",
        "</font>\n",
        "</center>\n",
        "</p>\n",
        "</b>"
      ]
    },
    {
      "cell_type": "markdown",
      "metadata": {
        "id": "rT2SKHw2zlEi"
      },
      "source": [
        "# Overview"
      ]
    },
    {
      "cell_type": "markdown",
      "metadata": {
        "id": "asZWLrJKzlEj"
      },
      "source": [
        "- The main motivation for developing this code is to apply the theoretical knowledge of Recurrent Neural Networks we gained during this class, to a real world problem.\n",
        "\n",
        "- Our task was to analyze a set of simulated particle collision data containing features characterizing events detected by ATLAS (a particle physics experiment at the Large Hadron Collider at CERN). \n",
        "\n",
        "- The objective of the analysis was to classify events as either a signal, indicating the tau tau Decay of a Higgs boson, or background noise. Recurrent Neural Networks are used to formulate the classification model.\n",
        "\n",
        "- This is a competition style from Kaggle - https://www.kaggle.com/c/higgs-boson/data\n",
        "\n",
        "- submission csv file includes header row and two columns\n",
        "\n",
        "\n",
        "- See the accompanied slides in this [PPT](https://docs.google.com/presentation/d/19JQq98CMg7J1VO_jjnm2eZl3wvgatRDr/edit?usp=sharing&ouid=112720765901416832302&rtpof=true&sd=true)\n",
        "\n"
      ]
    },
    {
      "cell_type": "markdown",
      "metadata": {
        "id": "WJ-IbZqAgILJ"
      },
      "source": [
        "# Notebook Configuration"
      ]
    },
    {
      "cell_type": "markdown",
      "metadata": {
        "id": "-ym9bO39OHcq"
      },
      "source": [
        "### Google Drive"
      ]
    },
    {
      "cell_type": "code",
      "metadata": {
        "colab": {
          "base_uri": "https://localhost:8080/"
        },
        "id": "1JhrFQ_Q8zjD",
        "outputId": "1ce6c2e9-2527-4835-918d-d8faf4412793"
      },
      "source": [
        "from google.colab import drive\n",
        "import sys\n",
        "\n",
        "# Mount Google Drive\n",
        "drive.mount('/content/drive')\n",
        "\n",
        "# Get the absolute path of the current folder\n",
        "abspath_curr = '/content/drive/My Drive/Colab Notebooks/code/p3_deep_learning/p3_c2_supervised_learning/p3_c2_s4_recurrent_neural_networks/case_study/ML_Project/'\n",
        "\n",
        "# Get the absolute path of the deep utilities folder\n",
        "abspath_util_deep = '/content/drive/My Drive/Colab Notebooks/code/utilities/p3_deep_learning/'\n",
        "\n",
        "import pandas as pd"
      ],
      "execution_count": null,
      "outputs": [
        {
          "output_type": "stream",
          "name": "stdout",
          "text": [
            "Mounted at /content/drive\n"
          ]
        }
      ]
    },
    {
      "cell_type": "markdown",
      "metadata": {
        "id": "bYZhU1Wqgmqx"
      },
      "source": [
        "### Warning"
      ]
    },
    {
      "cell_type": "code",
      "metadata": {
        "id": "MUl4k83e4ANR"
      },
      "source": [
        "import warnings\n",
        "\n",
        "# Ignore warnings\n",
        "warnings.filterwarnings('ignore')"
      ],
      "execution_count": null,
      "outputs": []
    },
    {
      "cell_type": "markdown",
      "metadata": {
        "id": "6WMODpPfgn2U"
      },
      "source": [
        "### Matplotlib"
      ]
    },
    {
      "cell_type": "code",
      "metadata": {
        "id": "DBRVH9SB4ANb"
      },
      "source": [
        "import matplotlib.pyplot as plt\n",
        "%matplotlib inline \n",
        "\n",
        "# Set matplotlib sizes\n",
        "plt.rc('font', size=20)\n",
        "plt.rc('axes', titlesize=20)\n",
        "plt.rc('axes', labelsize=20)\n",
        "plt.rc('xtick', labelsize=20)\n",
        "plt.rc('ytick', labelsize=20)\n",
        "plt.rc('legend', fontsize=20)\n",
        "plt.rc('figure', titlesize=20)"
      ],
      "execution_count": null,
      "outputs": []
    },
    {
      "cell_type": "markdown",
      "metadata": {
        "id": "n-wNDk5nZhhO"
      },
      "source": [
        "### TensorFlow"
      ]
    },
    {
      "cell_type": "code",
      "metadata": {
        "id": "LjG43tEnZkfE"
      },
      "source": [
        "# The magic below allows us to use tensorflow version 2.x\n",
        "%tensorflow_version 2.x \n",
        "import tensorflow_hub as hub\n",
        "import tensorflow as tf\n",
        "from tensorflow import keras\n",
        "from tensorflow.keras.layers import Conv2D,LSTM,LeakyReLU, MaxPooling2D,Concatenate,Input, Dropout, Flatten, Dense, GlobalAveragePooling2D,Activation, BatchNormalization\n",
        "from tensorflow.keras.callbacks import ModelCheckpoint, ReduceLROnPlateau, EarlyStopping\n",
        "from tensorflow.keras.models import Model"
      ],
      "execution_count": null,
      "outputs": []
    },
    {
      "cell_type": "markdown",
      "metadata": {
        "id": "40FN3UNfO2Z7"
      },
      "source": [
        "### Random seed"
      ]
    },
    {
      "cell_type": "code",
      "metadata": {
        "id": "uSADk0hJP71d"
      },
      "source": [
        "# The random seed\n",
        "random_seed = 42\n",
        "\n",
        "# Set random seed in tensorflow\n",
        "tf.random.set_seed(random_seed)\n",
        "\n",
        "# Set random seed in numpy\n",
        "import numpy as np\n",
        "np.random.seed(random_seed)"
      ],
      "execution_count": null,
      "outputs": []
    },
    {
      "cell_type": "markdown",
      "metadata": {
        "id": "1eOpQpPu4ANk"
      },
      "source": [
        "# Data Preprocessing"
      ]
    },
    {
      "cell_type": "code",
      "metadata": {
        "colab": {
          "base_uri": "https://localhost:8080/"
        },
        "id": "D-Mwc6MczlFD",
        "scrolled": true,
        "outputId": "27ab7332-c712-442d-d518-709ba2c34d80"
      },
      "source": [
        "# Change working directory to the absolute path of the deep utilities folder\n",
        "%cd $abspath_util_deep\n",
        "\n",
        "# Import the deep utitilities\n",
        "%run pmlm_utilities_deep.ipynb\n"
      ],
      "execution_count": null,
      "outputs": [
        {
          "output_type": "stream",
          "name": "stdout",
          "text": [
            "/content/drive/My Drive/Colab Notebooks/code/utilities/p3_deep_learning\n"
          ]
        }
      ]
    },
    {
      "cell_type": "markdown",
      "metadata": {
        "id": "KPpfQWDaKUBp"
      },
      "source": [
        "### Extra Utilities"
      ]
    },
    {
      "cell_type": "code",
      "metadata": {
        "id": "W5kWBPr_KYBb"
      },
      "source": [
        "def common_var_checker(df_train, df_val, df_test, target):\n",
        "    \"\"\"\n",
        "    The common variables checker\n",
        "\n",
        "    Parameters\n",
        "    ----------\n",
        "    df_train : the dataframe of training data\n",
        "    df_val : the dataframe of validation data\n",
        "    df_test : the dataframe of test data\n",
        "    target : the name of the target\n",
        "\n",
        "    Returns\n",
        "    ----------\n",
        "    The dataframe of common variables between the training, validation and test data\n",
        "    \"\"\"\n",
        "    \n",
        "    # Get the dataframe of common variables between the training, validation and test data\n",
        "    df_common_var = pd.DataFrame(np.intersect1d(np.intersect1d(df_train.columns, df_val.columns), np.union1d(df_test.columns, [target])),\n",
        "                                 columns=['common var'])\n",
        "                \n",
        "    return df_common_var"
      ],
      "execution_count": null,
      "outputs": []
    },
    {
      "cell_type": "code",
      "metadata": {
        "id": "sLbdRpyiJ_dS"
      },
      "source": [
        "def nan_checker(df):\n",
        "    \"\"\"\n",
        "    The NaN checker\n",
        "\n",
        "    Parameters\n",
        "    ----------\n",
        "    df : the dataframe\n",
        "    \n",
        "    Returns\n",
        "    ----------\n",
        "    The dataframe of variables with NaN, their proportion of NaN and data type\n",
        "    \"\"\"\n",
        "    \n",
        "    # Get the dataframe of variables with NaN, their proportion of NaN and data type\n",
        "    df_nan = pd.DataFrame([[var, df[var].isna().sum() / df.shape[0], df[var].dtype]\n",
        "                           for var in df.columns if df[var].isna().sum() > 0],\n",
        "                          columns=['var', 'proportion', 'dtype'])\n",
        "    \n",
        "    # Sort df_nan in accending order of the proportion of NaN\n",
        "    df_nan = df_nan.sort_values(by='proportion', ascending=False).reset_index(drop=True)\n",
        "    \n",
        "    return df_nan"
      ],
      "execution_count": null,
      "outputs": []
    },
    {
      "cell_type": "markdown",
      "metadata": {
        "id": "OVUFDRg7qTZM"
      },
      "source": [
        "### Loading data"
      ]
    },
    {
      "cell_type": "code",
      "metadata": {
        "id": "R56-Q9FWBd9f"
      },
      "source": [
        "train_data = pd.read_csv('/content/drive/My Drive/Colab Notebooks/code/ML_Project/data/train.csv')\n",
        "test_data = pd.read_csv('/content/drive/My Drive/Colab Notebooks/code/ML_Project/data/test.csv')"
      ],
      "execution_count": null,
      "outputs": []
    },
    {
      "cell_type": "markdown",
      "metadata": {
        "id": "yvIqSuZUVBb8"
      },
      "source": [
        "### Getting the name of the target\n",
        "\n",
        "The target label is divided into two classes: \"s\" and \"b,\" where \"s\" stands for \"unnormalized true positive rate\" and \"b\" stands for \"unnormalized false positive rate.\""
      ]
    },
    {
      "cell_type": "code",
      "metadata": {
        "id": "AF5gbpOWVElL"
      },
      "source": [
        "target = 'Label'"
      ],
      "execution_count": null,
      "outputs": []
    },
    {
      "cell_type": "markdown",
      "metadata": {
        "id": "_-EPBvuNa4Ot"
      },
      "source": [
        "In this step, we transform the classes to a list."
      ]
    },
    {
      "cell_type": "code",
      "metadata": {
        "colab": {
          "base_uri": "https://localhost:8080/"
        },
        "id": "vsSHR38vjL1G",
        "outputId": "f1e5e892-5726-401b-a599-bc5327c582c8"
      },
      "source": [
        "# Get the classes\n",
        "#classes = train_data.features['Label'].names\n",
        "classes = train_data['Label'].unique()\n",
        "\n",
        "# Print the classes\n",
        "classes.tolist()"
      ],
      "execution_count": null,
      "outputs": [
        {
          "output_type": "execute_result",
          "data": {
            "text/plain": [
              "['s', 'b']"
            ]
          },
          "metadata": {},
          "execution_count": 11
        }
      ]
    },
    {
      "cell_type": "markdown",
      "metadata": {
        "id": "pIhomK8pDQAJ"
      },
      "source": [
        "The target classes are assigned values of 0 and 1, where \"s\" equals 0 and \"b\" equals 1."
      ]
    },
    {
      "cell_type": "code",
      "metadata": {
        "id": "LNeUOx1bT_e1"
      },
      "source": [
        "label_map = {'s':0, 'b':1}\n",
        "train_data = train_data.replace({target:label_map})"
      ],
      "execution_count": null,
      "outputs": []
    },
    {
      "cell_type": "markdown",
      "metadata": {
        "id": "hqg8YHLDbD8H"
      },
      "source": [
        "The training set is made up of 250000 rows and 33 columns."
      ]
    },
    {
      "cell_type": "code",
      "metadata": {
        "colab": {
          "base_uri": "https://localhost:8080/",
          "height": 81
        },
        "id": "R4b3Odb4zlFG",
        "outputId": "2da3b298-cf57-414b-a873-acb2d86aa27a"
      },
      "source": [
        "# Print the dimension of df_train\n",
        "pd.DataFrame([[train_data.shape[0], train_data.shape[1]]], columns=['# rows', '# columns'])"
      ],
      "execution_count": null,
      "outputs": [
        {
          "output_type": "execute_result",
          "data": {
            "text/html": [
              "<div>\n",
              "<style scoped>\n",
              "    .dataframe tbody tr th:only-of-type {\n",
              "        vertical-align: middle;\n",
              "    }\n",
              "\n",
              "    .dataframe tbody tr th {\n",
              "        vertical-align: top;\n",
              "    }\n",
              "\n",
              "    .dataframe thead th {\n",
              "        text-align: right;\n",
              "    }\n",
              "</style>\n",
              "<table border=\"1\" class=\"dataframe\">\n",
              "  <thead>\n",
              "    <tr style=\"text-align: right;\">\n",
              "      <th></th>\n",
              "      <th># rows</th>\n",
              "      <th># columns</th>\n",
              "    </tr>\n",
              "  </thead>\n",
              "  <tbody>\n",
              "    <tr>\n",
              "      <th>0</th>\n",
              "      <td>250000</td>\n",
              "      <td>33</td>\n",
              "    </tr>\n",
              "  </tbody>\n",
              "</table>\n",
              "</div>"
            ],
            "text/plain": [
              "   # rows  # columns\n",
              "0  250000         33"
            ]
          },
          "metadata": {},
          "execution_count": 13
        }
      ]
    },
    {
      "cell_type": "markdown",
      "metadata": {
        "id": "bZ7-x_jtbGV1"
      },
      "source": [
        "The testing set is made up of 550000 rows and 31 columns."
      ]
    },
    {
      "cell_type": "code",
      "metadata": {
        "colab": {
          "base_uri": "https://localhost:8080/",
          "height": 81
        },
        "id": "XoEUedVY9ylA",
        "outputId": "b234cf3d-aae8-45ba-ad95-33218029806a"
      },
      "source": [
        "# Print the dimension of df_test\n",
        "pd.DataFrame([[test_data.shape[0], test_data.shape[1]]], columns=['# rows', '# columns'])"
      ],
      "execution_count": null,
      "outputs": [
        {
          "output_type": "execute_result",
          "data": {
            "text/html": [
              "<div>\n",
              "<style scoped>\n",
              "    .dataframe tbody tr th:only-of-type {\n",
              "        vertical-align: middle;\n",
              "    }\n",
              "\n",
              "    .dataframe tbody tr th {\n",
              "        vertical-align: top;\n",
              "    }\n",
              "\n",
              "    .dataframe thead th {\n",
              "        text-align: right;\n",
              "    }\n",
              "</style>\n",
              "<table border=\"1\" class=\"dataframe\">\n",
              "  <thead>\n",
              "    <tr style=\"text-align: right;\">\n",
              "      <th></th>\n",
              "      <th># rows</th>\n",
              "      <th># columns</th>\n",
              "    </tr>\n",
              "  </thead>\n",
              "  <tbody>\n",
              "    <tr>\n",
              "      <th>0</th>\n",
              "      <td>550000</td>\n",
              "      <td>31</td>\n",
              "    </tr>\n",
              "  </tbody>\n",
              "</table>\n",
              "</div>"
            ],
            "text/plain": [
              "   # rows  # columns\n",
              "0  550000         31"
            ]
          },
          "metadata": {},
          "execution_count": 14
        }
      ]
    },
    {
      "cell_type": "markdown",
      "metadata": {
        "id": "n9aK8P7bzlFQ"
      },
      "source": [
        "### Splitting the data\n",
        "The code below shows how to divide the training data into training (70%) and validation (30%) by using the scikit-learn model selection library."
      ]
    },
    {
      "cell_type": "code",
      "metadata": {
        "id": "7_m_N5HHzlFQ"
      },
      "source": [
        "from sklearn.model_selection import train_test_split\n",
        "\n",
        "# Divide the training data into training (70%) and validation (30%)\n",
        "df_train, df_val = train_test_split(train_data, train_size=0.7, random_state=random_seed)\n",
        "\n",
        "# Reset the index\n",
        "df_train, df_val = df_train.reset_index(drop=True), df_val.reset_index(drop=True)"
      ],
      "execution_count": null,
      "outputs": []
    },
    {
      "cell_type": "markdown",
      "metadata": {
        "id": "bbSHjxWobvz2"
      },
      "source": [
        "There are 175000 rows and 33 columns after dividing the training dataset into training sets."
      ]
    },
    {
      "cell_type": "code",
      "metadata": {
        "colab": {
          "base_uri": "https://localhost:8080/",
          "height": 81
        },
        "id": "iLVii-hMzlFS",
        "outputId": "481142a0-1971-4998-ebff-df3e69aab9b6"
      },
      "source": [
        "# Print the dimension of df_train\n",
        "pd.DataFrame([[df_train.shape[0], df_train.shape[1]]], columns=['# rows', '# columns'])"
      ],
      "execution_count": null,
      "outputs": [
        {
          "output_type": "execute_result",
          "data": {
            "text/html": [
              "<div>\n",
              "<style scoped>\n",
              "    .dataframe tbody tr th:only-of-type {\n",
              "        vertical-align: middle;\n",
              "    }\n",
              "\n",
              "    .dataframe tbody tr th {\n",
              "        vertical-align: top;\n",
              "    }\n",
              "\n",
              "    .dataframe thead th {\n",
              "        text-align: right;\n",
              "    }\n",
              "</style>\n",
              "<table border=\"1\" class=\"dataframe\">\n",
              "  <thead>\n",
              "    <tr style=\"text-align: right;\">\n",
              "      <th></th>\n",
              "      <th># rows</th>\n",
              "      <th># columns</th>\n",
              "    </tr>\n",
              "  </thead>\n",
              "  <tbody>\n",
              "    <tr>\n",
              "      <th>0</th>\n",
              "      <td>175000</td>\n",
              "      <td>33</td>\n",
              "    </tr>\n",
              "  </tbody>\n",
              "</table>\n",
              "</div>"
            ],
            "text/plain": [
              "   # rows  # columns\n",
              "0  175000         33"
            ]
          },
          "metadata": {},
          "execution_count": 16
        }
      ]
    },
    {
      "cell_type": "markdown",
      "metadata": {
        "id": "Db3LcjJcbxsP"
      },
      "source": [
        "There are 75000 rows and 33 columns after dividing the dataset into validation sets."
      ]
    },
    {
      "cell_type": "code",
      "metadata": {
        "colab": {
          "base_uri": "https://localhost:8080/",
          "height": 81
        },
        "id": "105_7CPVzlFT",
        "scrolled": false,
        "outputId": "06919934-6153-4c7c-dbc7-c91c36805409"
      },
      "source": [
        "# Print the dimension of df_val\n",
        "pd.DataFrame([[df_val.shape[0], df_val.shape[1]]], columns=['# rows', '# columns'])"
      ],
      "execution_count": null,
      "outputs": [
        {
          "output_type": "execute_result",
          "data": {
            "text/html": [
              "<div>\n",
              "<style scoped>\n",
              "    .dataframe tbody tr th:only-of-type {\n",
              "        vertical-align: middle;\n",
              "    }\n",
              "\n",
              "    .dataframe tbody tr th {\n",
              "        vertical-align: top;\n",
              "    }\n",
              "\n",
              "    .dataframe thead th {\n",
              "        text-align: right;\n",
              "    }\n",
              "</style>\n",
              "<table border=\"1\" class=\"dataframe\">\n",
              "  <thead>\n",
              "    <tr style=\"text-align: right;\">\n",
              "      <th></th>\n",
              "      <th># rows</th>\n",
              "      <th># columns</th>\n",
              "    </tr>\n",
              "  </thead>\n",
              "  <tbody>\n",
              "    <tr>\n",
              "      <th>0</th>\n",
              "      <td>75000</td>\n",
              "      <td>33</td>\n",
              "    </tr>\n",
              "  </tbody>\n",
              "</table>\n",
              "</div>"
            ],
            "text/plain": [
              "   # rows  # columns\n",
              "0   75000         33"
            ]
          },
          "metadata": {},
          "execution_count": 17
        }
      ]
    },
    {
      "cell_type": "code",
      "metadata": {
        "colab": {
          "base_uri": "https://localhost:8080/"
        },
        "id": "g1WqYN05YnhQ",
        "outputId": "41b2246c-a904-4c41-f839-f163317e86f5"
      },
      "source": [
        "df_train.columns"
      ],
      "execution_count": null,
      "outputs": [
        {
          "output_type": "execute_result",
          "data": {
            "text/plain": [
              "Index(['EventId', 'DER_mass_MMC', 'DER_mass_transverse_met_lep',\n",
              "       'DER_mass_vis', 'DER_pt_h', 'DER_deltaeta_jet_jet', 'DER_mass_jet_jet',\n",
              "       'DER_prodeta_jet_jet', 'DER_deltar_tau_lep', 'DER_pt_tot', 'DER_sum_pt',\n",
              "       'DER_pt_ratio_lep_tau', 'DER_met_phi_centrality',\n",
              "       'DER_lep_eta_centrality', 'PRI_tau_pt', 'PRI_tau_eta', 'PRI_tau_phi',\n",
              "       'PRI_lep_pt', 'PRI_lep_eta', 'PRI_lep_phi', 'PRI_met', 'PRI_met_phi',\n",
              "       'PRI_met_sumet', 'PRI_jet_num', 'PRI_jet_leading_pt',\n",
              "       'PRI_jet_leading_eta', 'PRI_jet_leading_phi', 'PRI_jet_subleading_pt',\n",
              "       'PRI_jet_subleading_eta', 'PRI_jet_subleading_phi', 'PRI_jet_all_pt',\n",
              "       'Weight', 'Label'],\n",
              "      dtype='object')"
            ]
          },
          "metadata": {},
          "execution_count": 18
        }
      ]
    },
    {
      "cell_type": "markdown",
      "metadata": {
        "id": "y5TqkV53Dhm7"
      },
      "source": [
        "### Experiment setup\n",
        "\n",
        "Total feature variables are 30.\n",
        "\n",
        "17 features are considered primitives and 13 are derived from them. So we decided to run our model in 3 ways:\n",
        "1. Consider only Primitive features (17)\n",
        "2. Consider only Derived features (13)\n",
        "3. Consider all the features\n",
        "\n",
        "We compared the best validation accuracy between all the above models keeping all the parameters (number of epochs, batch size, starting learning rate, callbacks) the same.\n",
        "\n",
        "Following code considers only Derived features."
      ]
    },
    {
      "cell_type": "code",
      "metadata": {
        "id": "t6gad7ulJWLN"
      },
      "source": [
        "df_train_der= df_train.drop(['EventId', 'PRI_tau_pt', 'PRI_tau_eta', 'PRI_tau_phi',\n",
        "       'PRI_lep_pt', 'PRI_lep_eta', 'PRI_lep_phi', 'PRI_met', 'PRI_met_phi',\n",
        "       'PRI_met_sumet', 'PRI_jet_num', 'PRI_jet_leading_pt',\n",
        "       'PRI_jet_leading_eta', 'PRI_jet_leading_phi', 'PRI_jet_subleading_pt',\n",
        "       'PRI_jet_subleading_eta', 'PRI_jet_subleading_phi', 'PRI_jet_all_pt'], axis=1)"
      ],
      "execution_count": null,
      "outputs": []
    },
    {
      "cell_type": "code",
      "metadata": {
        "id": "cPuFulHwvmrg"
      },
      "source": [
        "df_val_der= df_val.drop(['EventId','PRI_tau_pt', 'PRI_tau_eta', 'PRI_tau_phi',\n",
        "       'PRI_lep_pt', 'PRI_lep_eta', 'PRI_lep_phi', 'PRI_met', 'PRI_met_phi',\n",
        "       'PRI_met_sumet', 'PRI_jet_num', 'PRI_jet_leading_pt',\n",
        "       'PRI_jet_leading_eta', 'PRI_jet_leading_phi', 'PRI_jet_subleading_pt',\n",
        "       'PRI_jet_subleading_eta', 'PRI_jet_subleading_phi', 'PRI_jet_all_pt'], axis=1)"
      ],
      "execution_count": null,
      "outputs": []
    },
    {
      "cell_type": "code",
      "metadata": {
        "id": "un8hRvjKvmcJ"
      },
      "source": [
        "df_test_der= test_data.drop(['EventId','PRI_tau_pt', 'PRI_tau_eta', 'PRI_tau_phi',\n",
        "       'PRI_lep_pt', 'PRI_lep_eta', 'PRI_lep_phi', 'PRI_met', 'PRI_met_phi',\n",
        "       'PRI_met_sumet', 'PRI_jet_num', 'PRI_jet_leading_pt',\n",
        "       'PRI_jet_leading_eta', 'PRI_jet_leading_phi', 'PRI_jet_subleading_pt',\n",
        "       'PRI_jet_subleading_eta', 'PRI_jet_subleading_phi', 'PRI_jet_all_pt'], axis=1)"
      ],
      "execution_count": null,
      "outputs": []
    },
    {
      "cell_type": "code",
      "metadata": {
        "colab": {
          "base_uri": "https://localhost:8080/",
          "height": 81
        },
        "id": "T20c7TtavX0m",
        "outputId": "86dca8e3-396c-4cbf-c224-dad226e2e4fb"
      },
      "source": [
        "pd.DataFrame([[df_train_der.shape[0], df_train_der.shape[1]]], columns=['# rows', '# columns'])"
      ],
      "execution_count": null,
      "outputs": [
        {
          "output_type": "execute_result",
          "data": {
            "text/html": [
              "<div>\n",
              "<style scoped>\n",
              "    .dataframe tbody tr th:only-of-type {\n",
              "        vertical-align: middle;\n",
              "    }\n",
              "\n",
              "    .dataframe tbody tr th {\n",
              "        vertical-align: top;\n",
              "    }\n",
              "\n",
              "    .dataframe thead th {\n",
              "        text-align: right;\n",
              "    }\n",
              "</style>\n",
              "<table border=\"1\" class=\"dataframe\">\n",
              "  <thead>\n",
              "    <tr style=\"text-align: right;\">\n",
              "      <th></th>\n",
              "      <th># rows</th>\n",
              "      <th># columns</th>\n",
              "    </tr>\n",
              "  </thead>\n",
              "  <tbody>\n",
              "    <tr>\n",
              "      <th>0</th>\n",
              "      <td>175000</td>\n",
              "      <td>15</td>\n",
              "    </tr>\n",
              "  </tbody>\n",
              "</table>\n",
              "</div>"
            ],
            "text/plain": [
              "   # rows  # columns\n",
              "0  175000         15"
            ]
          },
          "metadata": {},
          "execution_count": 22
        }
      ]
    },
    {
      "cell_type": "code",
      "metadata": {
        "colab": {
          "base_uri": "https://localhost:8080/",
          "height": 81
        },
        "id": "1rYDsMovv_94",
        "outputId": "79e743dd-b189-40ef-fc27-3a51e819aae9"
      },
      "source": [
        "pd.DataFrame([[df_val_der.shape[0], df_val_der.shape[1]]], columns=['# rows', '# columns'])"
      ],
      "execution_count": null,
      "outputs": [
        {
          "output_type": "execute_result",
          "data": {
            "text/html": [
              "<div>\n",
              "<style scoped>\n",
              "    .dataframe tbody tr th:only-of-type {\n",
              "        vertical-align: middle;\n",
              "    }\n",
              "\n",
              "    .dataframe tbody tr th {\n",
              "        vertical-align: top;\n",
              "    }\n",
              "\n",
              "    .dataframe thead th {\n",
              "        text-align: right;\n",
              "    }\n",
              "</style>\n",
              "<table border=\"1\" class=\"dataframe\">\n",
              "  <thead>\n",
              "    <tr style=\"text-align: right;\">\n",
              "      <th></th>\n",
              "      <th># rows</th>\n",
              "      <th># columns</th>\n",
              "    </tr>\n",
              "  </thead>\n",
              "  <tbody>\n",
              "    <tr>\n",
              "      <th>0</th>\n",
              "      <td>75000</td>\n",
              "      <td>15</td>\n",
              "    </tr>\n",
              "  </tbody>\n",
              "</table>\n",
              "</div>"
            ],
            "text/plain": [
              "   # rows  # columns\n",
              "0   75000         15"
            ]
          },
          "metadata": {},
          "execution_count": 23
        }
      ]
    },
    {
      "cell_type": "code",
      "metadata": {
        "colab": {
          "base_uri": "https://localhost:8080/",
          "height": 81
        },
        "id": "HxippfDkv_xn",
        "outputId": "1c1c972a-666c-4fbd-ead8-5c2c3d83a631"
      },
      "source": [
        "pd.DataFrame([[df_test_der.shape[0], df_test_der.shape[1]]], columns=['# rows', '# columns'])"
      ],
      "execution_count": null,
      "outputs": [
        {
          "output_type": "execute_result",
          "data": {
            "text/html": [
              "<div>\n",
              "<style scoped>\n",
              "    .dataframe tbody tr th:only-of-type {\n",
              "        vertical-align: middle;\n",
              "    }\n",
              "\n",
              "    .dataframe tbody tr th {\n",
              "        vertical-align: top;\n",
              "    }\n",
              "\n",
              "    .dataframe thead th {\n",
              "        text-align: right;\n",
              "    }\n",
              "</style>\n",
              "<table border=\"1\" class=\"dataframe\">\n",
              "  <thead>\n",
              "    <tr style=\"text-align: right;\">\n",
              "      <th></th>\n",
              "      <th># rows</th>\n",
              "      <th># columns</th>\n",
              "    </tr>\n",
              "  </thead>\n",
              "  <tbody>\n",
              "    <tr>\n",
              "      <th>0</th>\n",
              "      <td>550000</td>\n",
              "      <td>13</td>\n",
              "    </tr>\n",
              "  </tbody>\n",
              "</table>\n",
              "</div>"
            ],
            "text/plain": [
              "   # rows  # columns\n",
              "0  550000         13"
            ]
          },
          "metadata": {},
          "execution_count": 24
        }
      ]
    },
    {
      "cell_type": "markdown",
      "metadata": {
        "id": "gXFG7kb6VEJt"
      },
      "source": [
        "### Identifying and dropping uncommon features"
      ]
    },
    {
      "cell_type": "code",
      "metadata": {
        "colab": {
          "base_uri": "https://localhost:8080/",
          "height": 488
        },
        "id": "Q9b0-5NzVEJv",
        "scrolled": false,
        "outputId": "bbbcf6e4-062c-4dfe-a570-bd39010ad0d4"
      },
      "source": [
        "# Call common_var_checker\n",
        "df_common_var = common_var_checker(df_train_der, df_val_der, df_test_der, target)\n",
        "\n",
        "# Print df_common_var\n",
        "df_common_var"
      ],
      "execution_count": null,
      "outputs": [
        {
          "output_type": "execute_result",
          "data": {
            "text/html": [
              "<div>\n",
              "<style scoped>\n",
              "    .dataframe tbody tr th:only-of-type {\n",
              "        vertical-align: middle;\n",
              "    }\n",
              "\n",
              "    .dataframe tbody tr th {\n",
              "        vertical-align: top;\n",
              "    }\n",
              "\n",
              "    .dataframe thead th {\n",
              "        text-align: right;\n",
              "    }\n",
              "</style>\n",
              "<table border=\"1\" class=\"dataframe\">\n",
              "  <thead>\n",
              "    <tr style=\"text-align: right;\">\n",
              "      <th></th>\n",
              "      <th>common var</th>\n",
              "    </tr>\n",
              "  </thead>\n",
              "  <tbody>\n",
              "    <tr>\n",
              "      <th>0</th>\n",
              "      <td>DER_deltaeta_jet_jet</td>\n",
              "    </tr>\n",
              "    <tr>\n",
              "      <th>1</th>\n",
              "      <td>DER_deltar_tau_lep</td>\n",
              "    </tr>\n",
              "    <tr>\n",
              "      <th>2</th>\n",
              "      <td>DER_lep_eta_centrality</td>\n",
              "    </tr>\n",
              "    <tr>\n",
              "      <th>3</th>\n",
              "      <td>DER_mass_MMC</td>\n",
              "    </tr>\n",
              "    <tr>\n",
              "      <th>4</th>\n",
              "      <td>DER_mass_jet_jet</td>\n",
              "    </tr>\n",
              "    <tr>\n",
              "      <th>5</th>\n",
              "      <td>DER_mass_transverse_met_lep</td>\n",
              "    </tr>\n",
              "    <tr>\n",
              "      <th>6</th>\n",
              "      <td>DER_mass_vis</td>\n",
              "    </tr>\n",
              "    <tr>\n",
              "      <th>7</th>\n",
              "      <td>DER_met_phi_centrality</td>\n",
              "    </tr>\n",
              "    <tr>\n",
              "      <th>8</th>\n",
              "      <td>DER_prodeta_jet_jet</td>\n",
              "    </tr>\n",
              "    <tr>\n",
              "      <th>9</th>\n",
              "      <td>DER_pt_h</td>\n",
              "    </tr>\n",
              "    <tr>\n",
              "      <th>10</th>\n",
              "      <td>DER_pt_ratio_lep_tau</td>\n",
              "    </tr>\n",
              "    <tr>\n",
              "      <th>11</th>\n",
              "      <td>DER_pt_tot</td>\n",
              "    </tr>\n",
              "    <tr>\n",
              "      <th>12</th>\n",
              "      <td>DER_sum_pt</td>\n",
              "    </tr>\n",
              "    <tr>\n",
              "      <th>13</th>\n",
              "      <td>Label</td>\n",
              "    </tr>\n",
              "  </tbody>\n",
              "</table>\n",
              "</div>"
            ],
            "text/plain": [
              "                     common var\n",
              "0          DER_deltaeta_jet_jet\n",
              "1            DER_deltar_tau_lep\n",
              "2        DER_lep_eta_centrality\n",
              "3                  DER_mass_MMC\n",
              "4              DER_mass_jet_jet\n",
              "5   DER_mass_transverse_met_lep\n",
              "6                  DER_mass_vis\n",
              "7        DER_met_phi_centrality\n",
              "8           DER_prodeta_jet_jet\n",
              "9                      DER_pt_h\n",
              "10         DER_pt_ratio_lep_tau\n",
              "11                   DER_pt_tot\n",
              "12                   DER_sum_pt\n",
              "13                        Label"
            ]
          },
          "metadata": {},
          "execution_count": 25
        }
      ]
    },
    {
      "cell_type": "code",
      "metadata": {
        "colab": {
          "base_uri": "https://localhost:8080/",
          "height": 261
        },
        "id": "BYv2OUswVEJx",
        "scrolled": true,
        "outputId": "9ad80271-3528-4428-9e02-fd6ffc059529"
      },
      "source": [
        "# Get the features in the training data but not in the validation or test data\n",
        "uncommon_feature_train_not_val_test = np.setdiff1d(df_train_der.columns, df_common_var['common var'])\n",
        "\n",
        "# Print the uncommon features\n",
        "print(pd.DataFrame(uncommon_feature_train_not_val_test, columns=['uncommon feature']))\n",
        "\n",
        "# Remove the uncommon features from the training data\n",
        "df_train_der = df_train_der.drop(columns=uncommon_feature_train_not_val_test)\n",
        "\n",
        "# Print the first 5 rows of df_train\n",
        "df_train_der.head()"
      ],
      "execution_count": null,
      "outputs": [
        {
          "output_type": "stream",
          "name": "stdout",
          "text": [
            "  uncommon feature\n",
            "0           Weight\n"
          ]
        },
        {
          "output_type": "execute_result",
          "data": {
            "text/html": [
              "<div>\n",
              "<style scoped>\n",
              "    .dataframe tbody tr th:only-of-type {\n",
              "        vertical-align: middle;\n",
              "    }\n",
              "\n",
              "    .dataframe tbody tr th {\n",
              "        vertical-align: top;\n",
              "    }\n",
              "\n",
              "    .dataframe thead th {\n",
              "        text-align: right;\n",
              "    }\n",
              "</style>\n",
              "<table border=\"1\" class=\"dataframe\">\n",
              "  <thead>\n",
              "    <tr style=\"text-align: right;\">\n",
              "      <th></th>\n",
              "      <th>DER_mass_MMC</th>\n",
              "      <th>DER_mass_transverse_met_lep</th>\n",
              "      <th>DER_mass_vis</th>\n",
              "      <th>DER_pt_h</th>\n",
              "      <th>DER_deltaeta_jet_jet</th>\n",
              "      <th>DER_mass_jet_jet</th>\n",
              "      <th>DER_prodeta_jet_jet</th>\n",
              "      <th>DER_deltar_tau_lep</th>\n",
              "      <th>DER_pt_tot</th>\n",
              "      <th>DER_sum_pt</th>\n",
              "      <th>DER_pt_ratio_lep_tau</th>\n",
              "      <th>DER_met_phi_centrality</th>\n",
              "      <th>DER_lep_eta_centrality</th>\n",
              "      <th>Label</th>\n",
              "    </tr>\n",
              "  </thead>\n",
              "  <tbody>\n",
              "    <tr>\n",
              "      <th>0</th>\n",
              "      <td>131.986</td>\n",
              "      <td>54.005</td>\n",
              "      <td>96.056</td>\n",
              "      <td>2.134</td>\n",
              "      <td>-999.000</td>\n",
              "      <td>-999.000</td>\n",
              "      <td>-999.000</td>\n",
              "      <td>2.989</td>\n",
              "      <td>2.134</td>\n",
              "      <td>93.889</td>\n",
              "      <td>1.342</td>\n",
              "      <td>-1.400</td>\n",
              "      <td>-999.000</td>\n",
              "      <td>1</td>\n",
              "    </tr>\n",
              "    <tr>\n",
              "      <th>1</th>\n",
              "      <td>99.526</td>\n",
              "      <td>12.022</td>\n",
              "      <td>62.295</td>\n",
              "      <td>37.792</td>\n",
              "      <td>5.669</td>\n",
              "      <td>671.449</td>\n",
              "      <td>-8.029</td>\n",
              "      <td>2.615</td>\n",
              "      <td>0.201</td>\n",
              "      <td>137.607</td>\n",
              "      <td>0.799</td>\n",
              "      <td>1.349</td>\n",
              "      <td>0.926</td>\n",
              "      <td>1</td>\n",
              "    </tr>\n",
              "    <tr>\n",
              "      <th>2</th>\n",
              "      <td>112.892</td>\n",
              "      <td>27.872</td>\n",
              "      <td>63.299</td>\n",
              "      <td>97.363</td>\n",
              "      <td>1.640</td>\n",
              "      <td>216.607</td>\n",
              "      <td>0.655</td>\n",
              "      <td>1.939</td>\n",
              "      <td>69.375</td>\n",
              "      <td>299.822</td>\n",
              "      <td>0.875</td>\n",
              "      <td>1.377</td>\n",
              "      <td>0.771</td>\n",
              "      <td>1</td>\n",
              "    </tr>\n",
              "    <tr>\n",
              "      <th>3</th>\n",
              "      <td>112.893</td>\n",
              "      <td>15.451</td>\n",
              "      <td>79.976</td>\n",
              "      <td>20.326</td>\n",
              "      <td>-999.000</td>\n",
              "      <td>-999.000</td>\n",
              "      <td>-999.000</td>\n",
              "      <td>2.963</td>\n",
              "      <td>30.904</td>\n",
              "      <td>127.202</td>\n",
              "      <td>1.165</td>\n",
              "      <td>-1.375</td>\n",
              "      <td>-999.000</td>\n",
              "      <td>1</td>\n",
              "    </tr>\n",
              "    <tr>\n",
              "      <th>4</th>\n",
              "      <td>122.362</td>\n",
              "      <td>15.404</td>\n",
              "      <td>87.781</td>\n",
              "      <td>33.359</td>\n",
              "      <td>-999.000</td>\n",
              "      <td>-999.000</td>\n",
              "      <td>-999.000</td>\n",
              "      <td>2.768</td>\n",
              "      <td>23.950</td>\n",
              "      <td>119.542</td>\n",
              "      <td>1.410</td>\n",
              "      <td>-1.138</td>\n",
              "      <td>-999.000</td>\n",
              "      <td>1</td>\n",
              "    </tr>\n",
              "  </tbody>\n",
              "</table>\n",
              "</div>"
            ],
            "text/plain": [
              "   DER_mass_MMC  DER_mass_transverse_met_lep  ...  DER_lep_eta_centrality  Label\n",
              "0       131.986                       54.005  ...                -999.000      1\n",
              "1        99.526                       12.022  ...                   0.926      1\n",
              "2       112.892                       27.872  ...                   0.771      1\n",
              "3       112.893                       15.451  ...                -999.000      1\n",
              "4       122.362                       15.404  ...                -999.000      1\n",
              "\n",
              "[5 rows x 14 columns]"
            ]
          },
          "metadata": {},
          "execution_count": 26
        }
      ]
    },
    {
      "cell_type": "code",
      "metadata": {
        "colab": {
          "base_uri": "https://localhost:8080/",
          "height": 261
        },
        "id": "bSqnr26PMxNb",
        "scrolled": true,
        "outputId": "18ff1b0d-7442-40a4-8cac-a78f315de0c1"
      },
      "source": [
        "# Get the features in the validation data but not in the training or test data\n",
        "uncommon_feature_val_not_train_test = np.setdiff1d(df_val_der.columns, df_common_var['common var'])\n",
        "\n",
        "# Print the uncommon features\n",
        "print(pd.DataFrame(uncommon_feature_val_not_train_test, columns=['uncommon feature']))\n",
        "\n",
        "df_val_der = df_val_der.drop(columns=uncommon_feature_val_not_train_test)\n",
        "\n",
        "# Print the first 5 rows of df_val\n",
        "df_val_der.head()"
      ],
      "execution_count": null,
      "outputs": [
        {
          "output_type": "stream",
          "name": "stdout",
          "text": [
            "  uncommon feature\n",
            "0           Weight\n"
          ]
        },
        {
          "output_type": "execute_result",
          "data": {
            "text/html": [
              "<div>\n",
              "<style scoped>\n",
              "    .dataframe tbody tr th:only-of-type {\n",
              "        vertical-align: middle;\n",
              "    }\n",
              "\n",
              "    .dataframe tbody tr th {\n",
              "        vertical-align: top;\n",
              "    }\n",
              "\n",
              "    .dataframe thead th {\n",
              "        text-align: right;\n",
              "    }\n",
              "</style>\n",
              "<table border=\"1\" class=\"dataframe\">\n",
              "  <thead>\n",
              "    <tr style=\"text-align: right;\">\n",
              "      <th></th>\n",
              "      <th>DER_mass_MMC</th>\n",
              "      <th>DER_mass_transverse_met_lep</th>\n",
              "      <th>DER_mass_vis</th>\n",
              "      <th>DER_pt_h</th>\n",
              "      <th>DER_deltaeta_jet_jet</th>\n",
              "      <th>DER_mass_jet_jet</th>\n",
              "      <th>DER_prodeta_jet_jet</th>\n",
              "      <th>DER_deltar_tau_lep</th>\n",
              "      <th>DER_pt_tot</th>\n",
              "      <th>DER_sum_pt</th>\n",
              "      <th>DER_pt_ratio_lep_tau</th>\n",
              "      <th>DER_met_phi_centrality</th>\n",
              "      <th>DER_lep_eta_centrality</th>\n",
              "      <th>Label</th>\n",
              "    </tr>\n",
              "  </thead>\n",
              "  <tbody>\n",
              "    <tr>\n",
              "      <th>0</th>\n",
              "      <td>136.372</td>\n",
              "      <td>32.142</td>\n",
              "      <td>95.158</td>\n",
              "      <td>24.012</td>\n",
              "      <td>-999.000</td>\n",
              "      <td>-999.000</td>\n",
              "      <td>-999.000</td>\n",
              "      <td>2.650</td>\n",
              "      <td>24.012</td>\n",
              "      <td>81.013</td>\n",
              "      <td>0.499</td>\n",
              "      <td>-0.976</td>\n",
              "      <td>-999.000</td>\n",
              "      <td>1</td>\n",
              "    </tr>\n",
              "    <tr>\n",
              "      <th>1</th>\n",
              "      <td>123.147</td>\n",
              "      <td>73.967</td>\n",
              "      <td>73.065</td>\n",
              "      <td>1.951</td>\n",
              "      <td>-999.000</td>\n",
              "      <td>-999.000</td>\n",
              "      <td>-999.000</td>\n",
              "      <td>3.181</td>\n",
              "      <td>1.951</td>\n",
              "      <td>73.968</td>\n",
              "      <td>2.106</td>\n",
              "      <td>1.064</td>\n",
              "      <td>-999.000</td>\n",
              "      <td>1</td>\n",
              "    </tr>\n",
              "    <tr>\n",
              "      <th>2</th>\n",
              "      <td>114.196</td>\n",
              "      <td>77.282</td>\n",
              "      <td>84.580</td>\n",
              "      <td>1.398</td>\n",
              "      <td>-999.000</td>\n",
              "      <td>-999.000</td>\n",
              "      <td>-999.000</td>\n",
              "      <td>2.808</td>\n",
              "      <td>1.398</td>\n",
              "      <td>86.994</td>\n",
              "      <td>1.752</td>\n",
              "      <td>-1.354</td>\n",
              "      <td>-999.000</td>\n",
              "      <td>1</td>\n",
              "    </tr>\n",
              "    <tr>\n",
              "      <th>3</th>\n",
              "      <td>113.938</td>\n",
              "      <td>37.713</td>\n",
              "      <td>78.068</td>\n",
              "      <td>73.541</td>\n",
              "      <td>1.506</td>\n",
              "      <td>83.664</td>\n",
              "      <td>0.344</td>\n",
              "      <td>2.062</td>\n",
              "      <td>2.179</td>\n",
              "      <td>176.908</td>\n",
              "      <td>0.670</td>\n",
              "      <td>1.380</td>\n",
              "      <td>0.946</td>\n",
              "      <td>0</td>\n",
              "    </tr>\n",
              "    <tr>\n",
              "      <th>4</th>\n",
              "      <td>-999.000</td>\n",
              "      <td>82.024</td>\n",
              "      <td>55.707</td>\n",
              "      <td>15.350</td>\n",
              "      <td>-999.000</td>\n",
              "      <td>-999.000</td>\n",
              "      <td>-999.000</td>\n",
              "      <td>1.943</td>\n",
              "      <td>15.350</td>\n",
              "      <td>62.787</td>\n",
              "      <td>1.461</td>\n",
              "      <td>-1.414</td>\n",
              "      <td>-999.000</td>\n",
              "      <td>1</td>\n",
              "    </tr>\n",
              "  </tbody>\n",
              "</table>\n",
              "</div>"
            ],
            "text/plain": [
              "   DER_mass_MMC  DER_mass_transverse_met_lep  ...  DER_lep_eta_centrality  Label\n",
              "0       136.372                       32.142  ...                -999.000      1\n",
              "1       123.147                       73.967  ...                -999.000      1\n",
              "2       114.196                       77.282  ...                -999.000      1\n",
              "3       113.938                       37.713  ...                   0.946      0\n",
              "4      -999.000                       82.024  ...                -999.000      1\n",
              "\n",
              "[5 rows x 14 columns]"
            ]
          },
          "metadata": {},
          "execution_count": 27
        }
      ]
    },
    {
      "cell_type": "code",
      "metadata": {
        "colab": {
          "base_uri": "https://localhost:8080/",
          "height": 49
        },
        "id": "aM_buccxVEJz",
        "scrolled": true,
        "outputId": "b2e33bbf-f30f-427f-ec05-5b4b43e932f7"
      },
      "source": [
        "# Get the features in the test data but not in the training or validation data\n",
        "uncommon_feature_test_not_train_val = np.setdiff1d(df_test_der.columns, df_common_var['common var'])\n",
        "\n",
        "# Print the uncommon features\n",
        "pd.DataFrame(uncommon_feature_test_not_train_val, columns=['uncommon feature'])"
      ],
      "execution_count": null,
      "outputs": [
        {
          "output_type": "execute_result",
          "data": {
            "text/html": [
              "<div>\n",
              "<style scoped>\n",
              "    .dataframe tbody tr th:only-of-type {\n",
              "        vertical-align: middle;\n",
              "    }\n",
              "\n",
              "    .dataframe tbody tr th {\n",
              "        vertical-align: top;\n",
              "    }\n",
              "\n",
              "    .dataframe thead th {\n",
              "        text-align: right;\n",
              "    }\n",
              "</style>\n",
              "<table border=\"1\" class=\"dataframe\">\n",
              "  <thead>\n",
              "    <tr style=\"text-align: right;\">\n",
              "      <th></th>\n",
              "      <th>uncommon feature</th>\n",
              "    </tr>\n",
              "  </thead>\n",
              "  <tbody>\n",
              "  </tbody>\n",
              "</table>\n",
              "</div>"
            ],
            "text/plain": [
              "Empty DataFrame\n",
              "Columns: [uncommon feature]\n",
              "Index: []"
            ]
          },
          "metadata": {},
          "execution_count": 28
        }
      ]
    },
    {
      "cell_type": "markdown",
      "metadata": {
        "id": "sreXrgK9zlFi"
      },
      "source": [
        "### Handling missing data\n",
        "We merge the training, testing, and validation sets here."
      ]
    },
    {
      "cell_type": "code",
      "metadata": {
        "id": "RRsmSwZRzlFi"
      },
      "source": [
        "# Combine df_train, df_val and df_test\n",
        "df = pd.concat([df_train_der, df_val_der, df_test_der], sort=False)"
      ],
      "execution_count": null,
      "outputs": []
    },
    {
      "cell_type": "markdown",
      "metadata": {
        "id": "wlqQtCbXzlFj"
      },
      "source": [
        "### Identifying missing values"
      ]
    },
    {
      "cell_type": "code",
      "metadata": {
        "colab": {
          "base_uri": "https://localhost:8080/",
          "height": 81
        },
        "id": "XlbjyhKxzlFk",
        "outputId": "98b2f9fd-529e-4899-e900-5ab418c39763"
      },
      "source": [
        "# Call nan_checker on df\n",
        "# See the implementation in pmlm_utilities.ipynb\n",
        "df_nan = nan_checker(df)\n",
        "\n",
        "# Print df_nan\n",
        "df_nan"
      ],
      "execution_count": null,
      "outputs": [
        {
          "output_type": "execute_result",
          "data": {
            "text/html": [
              "<div>\n",
              "<style scoped>\n",
              "    .dataframe tbody tr th:only-of-type {\n",
              "        vertical-align: middle;\n",
              "    }\n",
              "\n",
              "    .dataframe tbody tr th {\n",
              "        vertical-align: top;\n",
              "    }\n",
              "\n",
              "    .dataframe thead th {\n",
              "        text-align: right;\n",
              "    }\n",
              "</style>\n",
              "<table border=\"1\" class=\"dataframe\">\n",
              "  <thead>\n",
              "    <tr style=\"text-align: right;\">\n",
              "      <th></th>\n",
              "      <th>var</th>\n",
              "      <th>proportion</th>\n",
              "      <th>dtype</th>\n",
              "    </tr>\n",
              "  </thead>\n",
              "  <tbody>\n",
              "    <tr>\n",
              "      <th>0</th>\n",
              "      <td>Label</td>\n",
              "      <td>0.6875</td>\n",
              "      <td>float64</td>\n",
              "    </tr>\n",
              "  </tbody>\n",
              "</table>\n",
              "</div>"
            ],
            "text/plain": [
              "     var  proportion    dtype\n",
              "0  Label      0.6875  float64"
            ]
          },
          "metadata": {},
          "execution_count": 30
        }
      ]
    },
    {
      "cell_type": "markdown",
      "metadata": {
        "id": "OQF4kwW-OAq5"
      },
      "source": [
        "For the test dataset, the target variable \"Label\" has missing values. As a result, we don't need to assign any values."
      ]
    },
    {
      "cell_type": "markdown",
      "metadata": {
        "id": "X8NQhWbOEsA-"
      },
      "source": [
        "### Data preparation for RNN"
      ]
    },
    {
      "cell_type": "code",
      "metadata": {
        "id": "qffGmypCbP2U"
      },
      "source": [
        "X_train = df_train_der.drop(columns='Label').to_numpy()\n",
        "X_val = df_val_der.drop(columns='Label').to_numpy()\n",
        "y_train = df_train_der.pop('Label')\n",
        "y_val = df_val_der.pop('Label')"
      ],
      "execution_count": null,
      "outputs": []
    },
    {
      "cell_type": "code",
      "metadata": {
        "colab": {
          "base_uri": "https://localhost:8080/"
        },
        "id": "eaRnFkQPdI11",
        "outputId": "35adb21b-dbfe-4bcb-ccc7-211f303e5641"
      },
      "source": [
        "print(X_train.shape)\n",
        "print(X_val.shape)\n",
        "print(y_train.shape)\n",
        "print(y_val.shape)"
      ],
      "execution_count": null,
      "outputs": [
        {
          "output_type": "stream",
          "name": "stdout",
          "text": [
            "(175000, 13)\n",
            "(75000, 13)\n",
            "(175000,)\n",
            "(75000,)\n"
          ]
        }
      ]
    },
    {
      "cell_type": "markdown",
      "metadata": {
        "id": "j4jE1holEzen"
      },
      "source": [
        "### Normalize the data\n",
        "\n",
        "Using scikit-learn preprocesssing module, we normalize the training and testing data."
      ]
    },
    {
      "cell_type": "code",
      "metadata": {
        "id": "YAM7ZAfeU6m7"
      },
      "source": [
        "from sklearn.preprocessing import normalize\n",
        "X_train = normalize(X_train)\n",
        "X_val = normalize(X_val)"
      ],
      "execution_count": null,
      "outputs": []
    },
    {
      "cell_type": "code",
      "metadata": {
        "id": "Pg1vkBLPe43k"
      },
      "source": [
        "X_train = X_train.reshape(-1, 1, 13)\n",
        "X_val  = X_val.reshape(-1, 1, 13)\n",
        "y_train = y_train.values #convert pd to array\n",
        "y_train = y_train.reshape(-1, 1,)\n",
        "y_val = y_val.values #convert pd to array\n",
        "y_val = y_val.reshape(-1, 1,)"
      ],
      "execution_count": null,
      "outputs": []
    },
    {
      "cell_type": "code",
      "metadata": {
        "colab": {
          "base_uri": "https://localhost:8080/"
        },
        "id": "1nPMmWZPfGuF",
        "outputId": "343c18ab-4253-4ccf-d641-9755f3e97e76"
      },
      "source": [
        "print(X_train.shape)\n",
        "print(X_val.shape)\n",
        "print(y_train.shape)\n",
        "print(y_val.shape)"
      ],
      "execution_count": null,
      "outputs": [
        {
          "output_type": "stream",
          "name": "stdout",
          "text": [
            "(175000, 1, 13)\n",
            "(75000, 1, 13)\n",
            "(175000, 1)\n",
            "(75000, 1)\n"
          ]
        }
      ]
    },
    {
      "cell_type": "markdown",
      "metadata": {
        "id": "rMLlv9xK4AO9"
      },
      "source": [
        "# Training"
      ]
    },
    {
      "cell_type": "markdown",
      "metadata": {
        "id": "5l3DrD9e8g5_"
      },
      "source": [
        "### Creating the directory for the model"
      ]
    },
    {
      "cell_type": "code",
      "metadata": {
        "id": "qIxF9lEh8p7y"
      },
      "source": [
        "# Make directory\n",
        "import os\n",
        "directory = os.path.dirname(abspath_curr + '/result/model/')\n",
        "if not os.path.exists(directory):\n",
        "    os.makedirs(directory)"
      ],
      "execution_count": null,
      "outputs": []
    },
    {
      "cell_type": "markdown",
      "metadata": {
        "id": "qIWW5z5WUQa8"
      },
      "source": [
        "### Building the architecture of LSTM model\n",
        "\n",
        "LSTMs deal with both Long Term Memory (LTM) and Short Term Memory (STM) and for making the calculations simple and effective it uses the concept of gates.\n",
        "\n",
        "1. Forget Gate: LTM goes to forget gate and it forgets information that is not useful.\n",
        "2. Learn Gate: Event ( current input ) and STM are combined together so that necessary information that we have recently learned from STM can be applied to the current input.\n",
        "3. Remember Gate: LTM information that we haven’t forget and STM and Event are combined together in Remember gate which works as updated LTM.\n",
        "4. Use Gate: This gate also uses LTM, STM, and Event to predict the output of the current event which works as an updated STM."
      ]
    },
    {
      "cell_type": "code",
      "metadata": {
        "colab": {
          "base_uri": "https://localhost:8080/"
        },
        "id": "jl1jL5exfwz9",
        "scrolled": true,
        "outputId": "1546698d-ed8c-46cc-f5ce-09659fec7e40"
      },
      "source": [
        "# Get the model\n",
        "input_layer = Input(shape=(1,13))\n",
        "main_rnn_layer = LSTM(64, return_sequences=True, recurrent_dropout=0.2)(input_layer)\n",
        "    \n",
        "#output\n",
        "rnn = LSTM(32)(main_rnn_layer)\n",
        "dense = Dense(128)(rnn)\n",
        "dropout_c = Dropout(0.3)(dense)\n",
        "classes = Dense(1, activation= LeakyReLU(alpha=0.1),name=\"class\")(dropout_c)\n",
        "\n",
        "model = Model(input_layer, classes)\n",
        "\n",
        "# Get the model summary\n",
        "model.summary()"
      ],
      "execution_count": null,
      "outputs": [
        {
          "output_type": "stream",
          "name": "stdout",
          "text": [
            "Model: \"model\"\n",
            "_________________________________________________________________\n",
            " Layer (type)                Output Shape              Param #   \n",
            "=================================================================\n",
            " input_1 (InputLayer)        [(None, 1, 13)]           0         \n",
            "                                                                 \n",
            " lstm (LSTM)                 (None, 1, 64)             19968     \n",
            "                                                                 \n",
            " lstm_1 (LSTM)               (None, 32)                12416     \n",
            "                                                                 \n",
            " dense (Dense)               (None, 128)               4224      \n",
            "                                                                 \n",
            " dropout (Dropout)           (None, 128)               0         \n",
            "                                                                 \n",
            " class (Dense)               (None, 1)                 129       \n",
            "                                                                 \n",
            "=================================================================\n",
            "Total params: 36,737\n",
            "Trainable params: 36,737\n",
            "Non-trainable params: 0\n",
            "_________________________________________________________________\n"
          ]
        }
      ]
    },
    {
      "cell_type": "markdown",
      "metadata": {
        "id": "u9KTlbBT8EXs"
      },
      "source": [
        "### Setting Callbacks\n",
        "\n",
        "1. ModelCheckpoint callback:\n",
        "  - Callback to save the Keras model or model weights at some frequency.\n",
        "  - For our model, we set the variable to monitor as validation accuracy and saved the weights of best model so far.\n",
        "2. ReduceLROnPlateau callback:\n",
        "  - Reduce learning rate when a metric has stopped improving.\n",
        "  - For our model, we set the variable to monitor as validation accuracy. If the accuracy doesn’t improve in 3 epochs, the learning rate will be reduced by a factor of 0.5\n"
      ]
    },
    {
      "cell_type": "code",
      "metadata": {
        "id": "5_iUDJLP8K44"
      },
      "source": [
        "# ModelCheckpoint callback\n",
        "model_checkpoint_cb = keras.callbacks.ModelCheckpoint(monitor = 'val_loss', filepath=abspath_curr + '/result/model/der_model.h5',\n",
        "                                                      save_best_only=True,\n",
        "                                                      save_weights_only=True)\n",
        "\n",
        "# ReduceLROnPlateau callback\n",
        "reduce_lr_on_plateau_cb = keras.callbacks.ReduceLROnPlateau(monitor = 'val_loss', factor=0.5,\n",
        "                                                            patience=3)"
      ],
      "execution_count": null,
      "outputs": []
    },
    {
      "cell_type": "markdown",
      "metadata": {
        "id": "1LltYkY1HDa8"
      },
      "source": [
        "### Compiling the model\n",
        "Here we use the default learning rate of Adam optimizer."
      ]
    },
    {
      "cell_type": "code",
      "metadata": {
        "id": "rpjkBUwUHF-a"
      },
      "source": [
        "# Compile the model\n",
        "model.compile(optimizer=keras.optimizers.Adam(learning_rate=1*10 ** -3),\n",
        "              loss='binary_crossentropy',    \n",
        "              metrics=['accuracy'])"
      ],
      "execution_count": null,
      "outputs": []
    },
    {
      "cell_type": "markdown",
      "metadata": {
        "id": "2EViN28UHQoB"
      },
      "source": [
        "### Training the model\n",
        "\n",
        "We trained the model with 20 epochs and considering the batch size = 64. The starting learning rate was taken as 1e-3."
      ]
    },
    {
      "cell_type": "code",
      "metadata": {
        "colab": {
          "base_uri": "https://localhost:8080/"
        },
        "id": "uYxhtVPzHTKC",
        "outputId": "5f7693cb-f7e7-4897-abb7-898309e9b15a"
      },
      "source": [
        "# Train, evaluate and save the best model\n",
        "history = model.fit(X_train, y_train,\n",
        "                    epochs=20,\n",
        "                    validation_data=(X_val,y_val),\n",
        "                    batch_size = 64,\n",
        "                    callbacks=[model_checkpoint_cb,\n",
        "                               reduce_lr_on_plateau_cb])"
      ],
      "execution_count": null,
      "outputs": [
        {
          "output_type": "stream",
          "name": "stdout",
          "text": [
            "Epoch 1/20\n",
            "684/684 [==============================] - 12s 12ms/step - loss: 0.6818 - accuracy: 0.6485 - val_loss: 0.5807 - val_accuracy: 0.6978 - lr: 0.0010\n",
            "Epoch 2/20\n",
            "684/684 [==============================] - 7s 11ms/step - loss: 0.5975 - accuracy: 0.6910 - val_loss: 0.5825 - val_accuracy: 0.7009 - lr: 0.0010\n",
            "Epoch 3/20\n",
            "684/684 [==============================] - 7s 11ms/step - loss: 0.5947 - accuracy: 0.6960 - val_loss: 0.5853 - val_accuracy: 0.7021 - lr: 0.0010\n",
            "Epoch 4/20\n",
            "684/684 [==============================] - 7s 11ms/step - loss: 0.5930 - accuracy: 0.6895 - val_loss: 0.5704 - val_accuracy: 0.7003 - lr: 0.0010\n",
            "Epoch 5/20\n",
            "684/684 [==============================] - 7s 11ms/step - loss: 0.5901 - accuracy: 0.6879 - val_loss: 0.5635 - val_accuracy: 0.7048 - lr: 0.0010\n",
            "Epoch 6/20\n",
            "684/684 [==============================] - 7s 11ms/step - loss: 0.5805 - accuracy: 0.7009 - val_loss: 0.5610 - val_accuracy: 0.7113 - lr: 0.0010\n",
            "Epoch 7/20\n",
            "684/684 [==============================] - 7s 10ms/step - loss: 0.5808 - accuracy: 0.6982 - val_loss: 0.7184 - val_accuracy: 0.5033 - lr: 0.0010\n",
            "Epoch 8/20\n",
            "684/684 [==============================] - 7s 10ms/step - loss: 0.5766 - accuracy: 0.6977 - val_loss: 0.5512 - val_accuracy: 0.7090 - lr: 0.0010\n",
            "Epoch 9/20\n",
            "684/684 [==============================] - 7s 10ms/step - loss: 0.5768 - accuracy: 0.6949 - val_loss: 0.5507 - val_accuracy: 0.7085 - lr: 0.0010\n",
            "Epoch 10/20\n",
            "684/684 [==============================] - 7s 10ms/step - loss: 0.5720 - accuracy: 0.6975 - val_loss: 0.5807 - val_accuracy: 0.6938 - lr: 5.0000e-04\n",
            "Epoch 11/20\n",
            "684/684 [==============================] - 7s 10ms/step - loss: 0.5648 - accuracy: 0.7060 - val_loss: 0.5479 - val_accuracy: 0.7107 - lr: 5.0000e-04\n",
            "Epoch 12/20\n",
            "684/684 [==============================] - 7s 10ms/step - loss: 0.5590 - accuracy: 0.7090 - val_loss: 0.5448 - val_accuracy: 0.7102 - lr: 5.0000e-04\n",
            "Epoch 13/20\n",
            "684/684 [==============================] - 7s 11ms/step - loss: 0.5633 - accuracy: 0.7048 - val_loss: 0.5439 - val_accuracy: 0.7132 - lr: 2.5000e-04\n",
            "Epoch 14/20\n",
            "684/684 [==============================] - 7s 11ms/step - loss: 0.5581 - accuracy: 0.7103 - val_loss: 0.5452 - val_accuracy: 0.7123 - lr: 2.5000e-04\n",
            "Epoch 15/20\n",
            "684/684 [==============================] - 7s 10ms/step - loss: 0.5557 - accuracy: 0.7118 - val_loss: 0.5422 - val_accuracy: 0.7131 - lr: 2.5000e-04\n",
            "Epoch 16/20\n",
            "684/684 [==============================] - 7s 11ms/step - loss: 0.5565 - accuracy: 0.7127 - val_loss: 0.5432 - val_accuracy: 0.7134 - lr: 2.5000e-04\n",
            "Epoch 17/20\n",
            "684/684 [==============================] - 7s 10ms/step - loss: 0.5557 - accuracy: 0.7138 - val_loss: 0.5409 - val_accuracy: 0.7149 - lr: 2.5000e-04\n",
            "Epoch 18/20\n",
            "684/684 [==============================] - 7s 10ms/step - loss: 0.5526 - accuracy: 0.7151 - val_loss: 0.5398 - val_accuracy: 0.7137 - lr: 2.5000e-04\n",
            "Epoch 19/20\n",
            "684/684 [==============================] - 7s 11ms/step - loss: 0.5568 - accuracy: 0.7127 - val_loss: 0.5869 - val_accuracy: 0.7287 - lr: 2.5000e-04\n",
            "Epoch 20/20\n",
            "684/684 [==============================] - 7s 10ms/step - loss: 0.5643 - accuracy: 0.7026 - val_loss: 0.5429 - val_accuracy: 0.7144 - lr: 2.5000e-04\n"
          ]
        }
      ]
    },
    {
      "cell_type": "code",
      "metadata": {
        "colab": {
          "base_uri": "https://localhost:8080/"
        },
        "id": "vf6hF8AAbd6p",
        "outputId": "7d2141da-79e1-4ea4-afe8-75995d62e5f7"
      },
      "source": [
        "# Load the saved model\n",
        "model.load_weights(filepath=abspath_curr + '/result/model/der_model.h5')\n",
        "loss, accuracy = model.evaluate(X_val, y_val)"
      ],
      "execution_count": null,
      "outputs": [
        {
          "output_type": "stream",
          "name": "stdout",
          "text": [
            "2344/2344 [==============================] - 5s 2ms/step - loss: 0.5869 - accuracy: 0.7287\n"
          ]
        }
      ]
    },
    {
      "cell_type": "markdown",
      "metadata": {
        "id": "lY_XiycTHXk3"
      },
      "source": [
        "### Plotting the learning curve"
      ]
    },
    {
      "cell_type": "code",
      "metadata": {
        "id": "la3WmsFoHan8"
      },
      "source": [
        "# Make directory\n",
        "directory = os.path.dirname(abspath_curr + '/result/figure/')\n",
        "if not os.path.exists(directory):\n",
        "    os.makedirs(directory)"
      ],
      "execution_count": null,
      "outputs": []
    },
    {
      "cell_type": "code",
      "metadata": {
        "colab": {
          "base_uri": "https://localhost:8080/",
          "height": 348
        },
        "id": "yQSCDC6OHhDo",
        "outputId": "1a0c0caf-7aac-4090-c7c7-6d33ddd726ca"
      },
      "source": [
        "import pandas as pd\n",
        "\n",
        "# Create a figure\n",
        "pd.DataFrame(history.history).plot(figsize=(8, 5))\n",
        "\n",
        "# Set grid\n",
        "plt.grid(True)\n",
        "\n",
        "# Save and show the figure\n",
        "plt.tight_layout()\n",
        "plt.savefig(abspath_curr + '/result/figure/learning_curve.pdf')\n",
        "plt.show()"
      ],
      "execution_count": null,
      "outputs": [
        {
          "output_type": "display_data",
          "data": {
            "image/png": "[encoded data removed]",
            "text/plain": [
              "<Figure size 576x360 with 1 Axes>"
            ]
          },
          "metadata": {
            "needs_background": "light"
          }
        }
      ]
    },
    {
      "cell_type": "markdown",
      "metadata": {
        "id": "Elwor09cMCKl"
      },
      "source": [
        "#Testing"
      ]
    },
    {
      "cell_type": "markdown",
      "metadata": {
        "id": "RkGivY_MA6m1"
      },
      "source": [
        "### Reshaping test features for label prediction"
      ]
    },
    {
      "cell_type": "code",
      "metadata": {
        "id": "UH30djePPrWY"
      },
      "source": [
        "X_test = df_test_der.to_numpy()\n",
        "X_test = X_test.reshape(-1, 1, 13)"
      ],
      "execution_count": null,
      "outputs": []
    },
    {
      "cell_type": "markdown",
      "metadata": {
        "id": "pjg97rxBvTsD"
      },
      "source": [
        "### Loading the saved model"
      ]
    },
    {
      "cell_type": "code",
      "metadata": {
        "id": "vWOYFg8BvYI9"
      },
      "source": [
        "# Load the saved model\n",
        "model.load_weights(filepath=abspath_curr + '/result/model/der_model.h5')"
      ],
      "execution_count": null,
      "outputs": []
    },
    {
      "cell_type": "markdown",
      "metadata": {
        "id": "YAfOtSI7wajL"
      },
      "source": [
        "### Predicting values for the test dataset"
      ]
    },
    {
      "cell_type": "code",
      "metadata": {
        "id": "VcgdMSPY4X1v"
      },
      "source": [
        "test_df_nor = normalize(df_test_der)"
      ],
      "execution_count": null,
      "outputs": []
    },
    {
      "cell_type": "code",
      "metadata": {
        "id": "EGkw8V3v2prk"
      },
      "source": [
        "test_pre = test_df_nor.reshape(-1, 1, 13)\n",
        "model.load_weights(filepath=abspath_curr + '/result/model/der_model.h5')\n",
        "prediction = model.predict(test_pre)\n",
        "prediction =  np.where(prediction > 0.5, 1, 0)\n",
        "prediction = pd.Series(prediction[:,0])"
      ],
      "execution_count": null,
      "outputs": []
    },
    {
      "cell_type": "code",
      "metadata": {
        "colab": {
          "base_uri": "https://localhost:8080/"
        },
        "id": "k1oN4GSv5DLN",
        "outputId": "10da8f92-cf25-462a-eab2-75475822dee1"
      },
      "source": [
        "prediction"
      ],
      "execution_count": null,
      "outputs": [
        {
          "output_type": "execute_result",
          "data": {
            "text/plain": [
              "0         1\n",
              "1         1\n",
              "2         1\n",
              "3         1\n",
              "4         1\n",
              "         ..\n",
              "549995    0\n",
              "549996    0\n",
              "549997    1\n",
              "549998    0\n",
              "549999    1\n",
              "Length: 550000, dtype: int64"
            ]
          },
          "metadata": {},
          "execution_count": 48
        }
      ]
    },
    {
      "cell_type": "markdown",
      "metadata": {
        "id": "S027TpLJcyvN"
      },
      "source": [
        "## Generating the submission file"
      ]
    },
    {
      "cell_type": "code",
      "metadata": {
        "id": "M1BIivhD5WJ3"
      },
      "source": [
        "test_predict = pd.DataFrame({\"EventId\":test_data['EventId'],\"Class\":prediction})\n",
        "test_predict['Class'] = test_predict['Class'].replace(0,'s')\n",
        "test_predict['Class'] = test_predict['Class'].replace(1,'b')\n",
        "test_predict.to_csv(abspath_curr+'submission.csv',index=False)"
      ],
      "execution_count": null,
      "outputs": []
    },
    {
      "cell_type": "markdown",
      "metadata": {
        "id": "SrwWViajIsYj"
      },
      "source": [
        "# Conclusion\n",
        "\n",
        "We got the validation accuracy of:\n",
        "- 75.86% when we considered all 30 features (primitive and derived)\n",
        "![image.png](data:image/png;base64,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)\n",
        "- 75.6% with just the 13 derived features\n",
        "![image.png](data:image/png;base64,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)\n",
        "- 71.51% with just the 17 primitive features\n",
        "![image.png](data:image/png;base64,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)\n",
        "\n",
        "We consider the second experiment with derived features, the best because:\n",
        "- Lower number of features\n",
        "- Less computational cost\n",
        "- Negligible loss of accuracy as compared to the best model\n"
      ]
    },
    {
      "cell_type": "markdown",
      "metadata": {
        "id": "q1W9APstffk8"
      },
      "source": [
        "# Reference\n",
        "- The case_study.ipynb file from p3_c2_s4_recurrent_neural_networks case_study folder from Professor Yuxiao Huang's GitHub was used as a reference to clean our data and build the above code.\n",
        "- The code for building, compiling and training RNNs were largely inspired by the following work:\n",
        "    - Géron, A., 2019. *Hands-On Machine Learning with Scikit-Learn, Keras, and TensorFlow: Concepts, Tools, and Techniques to Build Intelligent Systems*. O'Reilly Media."
      ]
    }
  ]
}